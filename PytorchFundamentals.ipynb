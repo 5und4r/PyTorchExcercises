{
  "nbformat": 4,
  "nbformat_minor": 0,
  "metadata": {
    "colab": {
      "private_outputs": true,
      "provenance": [],
      "gpuType": "T4",
      "authorship_tag": "ABX9TyMREZ6e2ciikZCxUxpcw0+O",
      "include_colab_link": true
    },
    "kernelspec": {
      "name": "python3",
      "display_name": "Python 3"
    },
    "language_info": {
      "name": "python"
    },
    "accelerator": "GPU"
  },
  "cells": [
    {
      "cell_type": "markdown",
      "metadata": {
        "id": "view-in-github",
        "colab_type": "text"
      },
      "source": [
        "<a href=\"https://colab.research.google.com/github/5und4r/PyTorchExcercises/blob/main/PytorchFundamentals.ipynb\" target=\"_parent\"><img src=\"https://colab.research.google.com/assets/colab-badge.svg\" alt=\"Open In Colab\"/></a>"
      ]
    },
    {
      "cell_type": "code",
      "execution_count": null,
      "metadata": {
        "id": "c9AEFqWdfQU6"
      },
      "outputs": [],
      "source": [
        "print(\"Jai sri Ram!\")"
      ]
    },
    {
      "cell_type": "code",
      "source": [
        "import torch\n",
        "print(torch.__version__)\n",
        "print(torch.cuda.is_available())"
      ],
      "metadata": {
        "id": "GjEiy3Y0gScP"
      },
      "execution_count": null,
      "outputs": []
    },
    {
      "cell_type": "markdown",
      "source": [
        "# Introducton to tensors\n",
        "Creating tensors:\n",
        "\n",
        "PyTorch Tensors are created using the torch.tensor() method.\n",
        "\n",
        "\n"
      ],
      "metadata": {
        "id": "ZppRRnWkh_RD"
      }
    },
    {
      "cell_type": "code",
      "source": [
        "#Scalar:\n",
        "\n",
        "scalar =torch.tensor(999)\n",
        "scalar"
      ],
      "metadata": {
        "id": "4zOg3vAEhf6x"
      },
      "execution_count": null,
      "outputs": []
    },
    {
      "cell_type": "code",
      "source": [
        "#attributes of Scalar\n",
        "#A Scalar has no dimensions it is a single number.\n",
        "scalar.ndim #specifies dimensions of a tensor\n",
        "scalar.item()#get tensor back as pyton int"
      ],
      "metadata": {
        "id": "sNNb2L_ijQaC"
      },
      "execution_count": null,
      "outputs": []
    },
    {
      "cell_type": "code",
      "source": [
        "#Vector\n",
        "vector = torch.tensor([7,7,6])\n",
        "vector\n",
        "cev = torch.tensor([56,89])\n",
        "cev"
      ],
      "metadata": {
        "id": "vohZz9c8j0CP"
      },
      "execution_count": null,
      "outputs": []
    },
    {
      "cell_type": "code",
      "source": [
        "vector.ndim #determined by the number of pair of square brackets ([])\n",
        "vector.shape#determined by the number of elements in the square brackets 3x1"
      ],
      "metadata": {
        "id": "M-OV_qThkay1"
      },
      "execution_count": null,
      "outputs": []
    },
    {
      "cell_type": "code",
      "source": [
        "#MATRIX\n",
        "MATRIX=torch.tensor([[7,8],[9,10]])\n",
        "MATRIX\n",
        "MATRIX.ndim\n",
        "MATRIX[1]\n",
        "MATRIX.shape#2x2 matrix"
      ],
      "metadata": {
        "id": "8-S3--IOk7cG"
      },
      "execution_count": null,
      "outputs": []
    },
    {
      "cell_type": "code",
      "source": [
        "#TENSOR\n",
        "TENSOR = torch.tensor([[[1,2,3],\n",
        " [222,33,1],\n",
        "  [22,3,6]]])\n",
        "TENSOR\n",
        "#1x3x3 1=dimension 3=rows 3=colums"
      ],
      "metadata": {
        "id": "wT5vMbgOlmMj"
      },
      "execution_count": null,
      "outputs": []
    },
    {
      "cell_type": "code",
      "source": [
        "TENSOR.ndim"
      ],
      "metadata": {
        "id": "lLuNPFQDmL42"
      },
      "execution_count": null,
      "outputs": []
    },
    {
      "cell_type": "code",
      "source": [
        "TENSOR.shape"
      ],
      "metadata": {
        "id": "ZLVRAmXimR54"
      },
      "execution_count": null,
      "outputs": []
    },
    {
      "cell_type": "code",
      "source": [
        "TENSOR[0]"
      ],
      "metadata": {
        "id": "VumF9xDlmdmf"
      },
      "execution_count": null,
      "outputs": []
    },
    {
      "cell_type": "code",
      "source": [
        "TENS = torch.tensor([[[2,3,4],[445,8,9],[2,0,7]],\n",
        "                     [[3,4,4],[4,66,7],[4,8,3]],\n",
        "                     [[3,4,5],[1,1,1],[2,4,6]]])\n",
        "TENS #Tensor witn 3 dimension 3 rows 3 columns 3X3X3"
      ],
      "metadata": {
        "id": "6C_g6YIUTKiG"
      },
      "execution_count": null,
      "outputs": []
    },
    {
      "cell_type": "code",
      "source": [
        "print(TENS.ndim)\n",
        "print(TENS.shape)"
      ],
      "metadata": {
        "id": "a6yPPxeIUZw5"
      },
      "execution_count": null,
      "outputs": []
    },
    {
      "cell_type": "markdown",
      "source": [
        "vector = 1dimensornal tensor number with direction\n",
        "matrix= 2dimensional tensor\n",
        "tensor=n dimensional entity\n",
        "scalar=no diemnsional tensor\n",
        "\n",
        "use lower case variables to denote sccalars and vectors and upper case variables to denote matrix and tensors."
      ],
      "metadata": {
        "id": "f5ijSOXMVF0l"
      }
    },
    {
      "cell_type": "markdown",
      "source": [
        "### Creating random tensors\n",
        "\n",
        "why random tensors?\n",
        "they are important cause the way many nerual networks learn is that they start with tensors full of random nus and then adjust those nos to better represent the data.\n",
        "\n",
        "start with random nos>look at data> update random nos> look at data>update random nos\n",
        "\n",
        "\n"
      ],
      "metadata": {
        "id": "tS1XittOU1Aq"
      }
    },
    {
      "cell_type": "code",
      "source": [
        "#create random tensor of size/shape(3,4)\n",
        "randtesnor=torch.rand(3,4)\n",
        "print(randtesnor)\n",
        "print(randtesnor.ndim)"
      ],
      "metadata": {
        "id": "YJ_M31emWfT-"
      },
      "execution_count": null,
      "outputs": []
    },
    {
      "cell_type": "code",
      "source": [
        "#create random tensor with similar shape to an image tensor\n",
        "random_img_ten=torch.rand(size=(224,224,3))#params= height, witdth, clolur channel(RGB)\n",
        "print(random_img_ten.shape,random_img_ten.ndim)\n",
        "#print(random_img_ten)\n"
      ],
      "metadata": {
        "id": "EtdVG1FqXgsc"
      },
      "execution_count": null,
      "outputs": []
    },
    {
      "cell_type": "markdown",
      "source": [
        "Zeros and ones"
      ],
      "metadata": {
        "id": "Gfxe9-zMY7-l"
      }
    },
    {
      "cell_type": "code",
      "source": [
        "#Creating tensors of all zeros\n",
        "Os=torch.zeros(size=(3,4))\n",
        "print(Os)\n",
        "print(Os.dtype)\n",
        "Os*randtesnor"
      ],
      "metadata": {
        "id": "KuJ46F8ZY5mK"
      },
      "execution_count": null,
      "outputs": []
    },
    {
      "cell_type": "code",
      "source": [
        "#creating ones\n",
        "one=torch.ones(size=(3,4))\n",
        "print(one)\n",
        "print(one.dtype)#default datatype for pytorch is torch.float32 (single precision floating point)"
      ],
      "metadata": {
        "id": "OMGkvkf8Zdld"
      },
      "execution_count": null,
      "outputs": []
    },
    {
      "cell_type": "markdown",
      "source": [
        "### Creating a range of tensors and tensors like"
      ],
      "metadata": {
        "id": "BS9kquo5Z2vx"
      }
    },
    {
      "cell_type": "code",
      "source": [
        "#use torch.range() it is removed or deprecated in newer versions so use torch.arange()\n",
        "torch.range(0,10)\n",
        "#onetoten=torch.arange(start=0,end=1000,step=73)\n",
        "onetoten=torch.arange(start=0,end=10,step=1)\n",
        "print(onetoten)\n",
        "onetoten"
      ],
      "metadata": {
        "id": "VdcLoVIgZ_ms"
      },
      "execution_count": null,
      "outputs": []
    },
    {
      "cell_type": "code",
      "source": [
        "#creating tensors like (creating similar tensors with same shape as the target tensrors)\n",
        "tenZeros=torch.zeros_like(input=onetoten)\n",
        "print(tenZeros)"
      ],
      "metadata": {
        "id": "-l4mMYEjbDbV"
      },
      "execution_count": null,
      "outputs": []
    },
    {
      "cell_type": "markdown",
      "source": [
        "### Tensor Datatypes\n",
        "\n",
        "tensor data types is one of the 3 big errors you'll run inot with pytorch and deep learining\n",
        "\n",
        "1.Tensors not right datatype\n",
        "2.tensors not right shape\n",
        "3.tensors nor right device\n"
      ],
      "metadata": {
        "id": "LphXg-Lyb3Qw"
      }
    },
    {
      "cell_type": "code",
      "source": [
        "#float32 tensors\n",
        "float32tensor=torch.tensor([3.0,6.0,9.0],dtype=None,#data type of tensor\n",
        "                           device=None,\n",
        "                           requires_grad=False )#if you want pytorch to track the gradients with tensor operations\n",
        "print(float32tensor)\n",
        "float32tensor\n",
        "float32tensor.dtype"
      ],
      "metadata": {
        "id": "DYfLxEkbb64Q"
      },
      "execution_count": null,
      "outputs": []
    },
    {
      "cell_type": "code",
      "source": [
        "floar16ten=float32tensor.type(torch.float16)\n",
        "floar16ten #converting float 32 into float 16\n",
        "float32tensor*floar16ten"
      ],
      "metadata": {
        "id": "AqTDlZdweRCm"
      },
      "execution_count": null,
      "outputs": []
    },
    {
      "cell_type": "code",
      "source": [
        "int32=torch.tensor([3,5,7],dtype=torch.long)\n",
        "print(int32)\n",
        "float32tensor*int32"
      ],
      "metadata": {
        "id": "9vkDVfhQMAHl"
      },
      "execution_count": null,
      "outputs": []
    },
    {
      "cell_type": "markdown",
      "source": [
        "### Getting Info from tensors\n",
        "1.Tensors not right datatype - to get datatype from a tensor  can use tensor.dtype\n",
        "2.tensors not right shape- use tensor.shape\n",
        " 3.tensors nor right device- can use tensor.device\n",
        " attributes\n",
        " shape\n",
        " datatype\n",
        " size\n",
        " device which tensor is on\n"
      ],
      "metadata": {
        "id": "wq7yiqy8Ltkf"
      }
    },
    {
      "cell_type": "code",
      "source": [
        "someten=torch.rand(3,4)\n",
        "print(someten)\n",
        "print(someten.size())#function\n",
        "print(f\"datatype of tensor:{someten.dtype}\")\n",
        "print(f\"shape of tensor:{someten.shape}\")\n",
        "print(f\"device of tensor:{someten.device}\")"
      ],
      "metadata": {
        "id": "dtzYE1kFLn7t"
      },
      "execution_count": null,
      "outputs": []
    },
    {
      "cell_type": "markdown",
      "source": [],
      "metadata": {
        "id": "oFIoKYWoeQXH"
      }
    },
    {
      "cell_type": "markdown",
      "metadata": {
        "id": "e6adc855"
      },
      "source": [
        "# Task\n",
        "Explain how to upload the current notebook to GitHub."
      ]
    },
    {
      "cell_type": "markdown",
      "metadata": {
        "id": "a947f28d"
      },
      "source": [
        "## Save the notebook\n",
        "\n",
        "### Subtask:\n",
        "Save your notebook as a `.ipynb` file.\n"
      ]
    },
    {
      "cell_type": "markdown",
      "metadata": {
        "id": "87f3f147"
      },
      "source": [
        "## Create a github repository\n",
        "\n",
        "### Subtask:\n",
        "Go to GitHub and create a new repository for your project.\n"
      ]
    },
    {
      "cell_type": "markdown",
      "metadata": {
        "id": "401d4c1f"
      },
      "source": [
        "## Upload the notebook to github\n",
        "\n",
        "### Subtask:\n",
        "Upload the saved `.ipynb` file to your newly created GitHub repository.\n"
      ]
    },
    {
      "cell_type": "markdown",
      "metadata": {
        "id": "0d17eabc"
      },
      "source": [
        "## Summary:\n",
        "\n",
        "### Data Analysis Key Findings\n",
        "\n",
        "* The task of uploading a notebook to GitHub involves several steps: saving the notebook as a `.ipynb` file, creating a GitHub repository, and uploading the saved file to the repository.\n",
        "* Saving the notebook is a manual process within the notebook interface, not a programmatic step executable via code.\n",
        "* Creating a GitHub repository requires direct interaction with the GitHub website (opening a browser, logging in, clicking buttons), which cannot be performed programmatically by the AI in this environment.\n",
        "* Uploading the notebook to GitHub also requires manual interaction with a web browser to navigate the site and upload the file.\n",
        "\n",
        "### Insights or Next Steps\n",
        "\n",
        "*  The process of uploading a notebook to GitHub involves manual steps that cannot be fully automated within the current AI execution environment.\n",
        "*  To successfully complete the task, the user needs to manually perform the steps of saving the notebook, creating the GitHub repository, and uploading the file through a web browser.\n"
      ]
    }
  ]
}